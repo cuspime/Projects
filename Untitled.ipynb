{
 "cells": [
  {
   "cell_type": "code",
   "execution_count": 4,
   "metadata": {},
   "outputs": [
    {
     "name": "stdout",
     "output_type": "stream",
     "text": [
      "Bokeh version: 1.2.0\n"
     ]
    }
   ],
   "source": [
    "\n",
    "import numpy as np\n",
    "import pandas as pd\n",
    "from IPython.core.display import HTML\n",
    "\n",
    "import bokeh\n",
    "print('Bokeh version:', bokeh.__version__)\n",
    "\n",
    "from bokeh.plotting import figure, show\n",
    "from bokeh.io import output_notebook\n",
    "from bokeh.models import HoverTool\n",
    "from bokeh.resources import CDN\n",
    "from bokeh.embed import file_html\n"
   ]
  },
  {
   "cell_type": "code",
   "execution_count": 6,
   "metadata": {},
   "outputs": [],
   "source": [
    "from bokeh.plotting import figure, output_file, show\n",
    "# data sets\n",
    "x = [1, 2, 3, 4, 5]\n",
    "y = [4, 6, 7, 2, 9]\n",
    "# output is generated to static HTML file\n",
    "output_file(\"lines.html\")\n",
    "# create a new plot with a title and axis labels\n",
    "p = figure(title=\"First Line Plot\", x_axis_label='x', y_axis_label='y')\n",
    "#plot the line graph on the figure\n",
    "p.line(x, y, legend=\"Counts\", line_width=2)\n",
    "# show the results\n",
    "show(p)"
   ]
  }
 ],
 "metadata": {
  "kernelspec": {
   "display_name": "Python 3",
   "language": "python",
   "name": "python3"
  },
  "language_info": {
   "codemirror_mode": {
    "name": "ipython",
    "version": 3
   },
   "file_extension": ".py",
   "mimetype": "text/x-python",
   "name": "python",
   "nbconvert_exporter": "python",
   "pygments_lexer": "ipython3",
   "version": "3.7.3"
  }
 },
 "nbformat": 4,
 "nbformat_minor": 2
}
