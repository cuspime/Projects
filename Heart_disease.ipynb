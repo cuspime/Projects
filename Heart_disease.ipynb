{
 "cells": [
  {
   "cell_type": "markdown",
   "metadata": {},
   "source": [
    "<h1 style=\"color:red; font-family:candara; font-size:300%; text-align:center;\"> \n",
    "    Heart disease\n",
    "</h1>\n",
    "\n",
    "***\n",
    "\n",
    "This data set comes from [this Kaggle database](https://www.kaggle.com/ronitf/heart-disease-uci)\n",
    "\n",
    "The term heart disease describes a range of conditions that affect the heart, like blood vessel diseases (such as coronary artery disease), arrhythmia and congenital heart defects.\n",
    "\n",
    "Heart disease is, [according to the WHO](https://www.who.int/health-topics/cardiovascular-diseases/#tab=tab_1) the number one cause of death globally. It takes the lives of about 18 million people every year and about 80% of them suffered from heart attacks or strokes.\n",
    "Hence, the correct prediction of heart disease has a great importance within clinical data analysis and data mining turns the large collection of raw healthcare data into usable information to make informed decisions and predictions. \n",
    "This is specially important after knowing that \"80% of premature heart disease and stroke is preventable\".\n",
    "\n",
    "Let's now look at the data from UCI"
   ]
  },
  {
   "cell_type": "code",
   "execution_count": 1,
   "metadata": {},
   "outputs": [],
   "source": [
    "import numpy as np\n",
    "import pandas as pd\n",
    "import matplotlib.pyplot as plt\n",
    "import seaborn as sns; sns.set()\n",
    "\n",
    "#pip install ipywidgets #Interactive Python\n",
    "# jupyter nbextension enable --py widgetsnbextension\n",
    "# jupyter nbextension enable --py widgetsnbextension --sys-prefix\n",
    "# import ipywidgets as widgets\n",
    "# from ipywidgets import interact, interact_manual\n",
    "\n",
    "\n",
    "\n",
    "#Options for pandas\n",
    "pd.options.display.max_colwidth = 100 #show more content in the dataframes"
   ]
  },
  {
   "cell_type": "code",
   "execution_count": 2,
   "metadata": {},
   "outputs": [],
   "source": [
    "# On Windows path is with \"\\\\\" instead of \"/\"\n",
    "df = pd.read_csv(\"C:\\\\Users\\\\cuspi\\\\Documents\\\\Databases\\\\Heart_disease\\\\heart.csv\")\n",
    "# print(df.unique())"
   ]
  },
  {
   "cell_type": "code",
   "execution_count": 3,
   "metadata": {},
   "outputs": [
    {
     "name": "stdout",
     "output_type": "stream",
     "text": [
      "Index(['age', 'sex', 'cp', 'trestbps', 'chol', 'fbs', 'restecg', 'thalach',\n",
      "       'exang', 'oldpeak', 'slope', 'ca', 'thal', 'target'],\n",
      "      dtype='object')\n"
     ]
    },
    {
     "data": {
      "text/html": [
       "<div>\n",
       "<style scoped>\n",
       "    .dataframe tbody tr th:only-of-type {\n",
       "        vertical-align: middle;\n",
       "    }\n",
       "\n",
       "    .dataframe tbody tr th {\n",
       "        vertical-align: top;\n",
       "    }\n",
       "\n",
       "    .dataframe thead th {\n",
       "        text-align: right;\n",
       "    }\n",
       "</style>\n",
       "<table border=\"1\" class=\"dataframe\">\n",
       "  <thead>\n",
       "    <tr style=\"text-align: right;\">\n",
       "      <th></th>\n",
       "      <th>age</th>\n",
       "      <th>sex</th>\n",
       "      <th>cp</th>\n",
       "      <th>trestbps</th>\n",
       "      <th>chol</th>\n",
       "      <th>fbs</th>\n",
       "      <th>restecg</th>\n",
       "      <th>thalach</th>\n",
       "      <th>exang</th>\n",
       "      <th>oldpeak</th>\n",
       "      <th>slope</th>\n",
       "      <th>ca</th>\n",
       "      <th>thal</th>\n",
       "      <th>target</th>\n",
       "    </tr>\n",
       "  </thead>\n",
       "  <tbody>\n",
       "    <tr>\n",
       "      <th>0</th>\n",
       "      <td>63</td>\n",
       "      <td>1</td>\n",
       "      <td>3</td>\n",
       "      <td>145</td>\n",
       "      <td>233</td>\n",
       "      <td>1</td>\n",
       "      <td>0</td>\n",
       "      <td>150</td>\n",
       "      <td>0</td>\n",
       "      <td>2.3</td>\n",
       "      <td>0</td>\n",
       "      <td>0</td>\n",
       "      <td>1</td>\n",
       "      <td>1</td>\n",
       "    </tr>\n",
       "    <tr>\n",
       "      <th>1</th>\n",
       "      <td>37</td>\n",
       "      <td>1</td>\n",
       "      <td>2</td>\n",
       "      <td>130</td>\n",
       "      <td>250</td>\n",
       "      <td>0</td>\n",
       "      <td>1</td>\n",
       "      <td>187</td>\n",
       "      <td>0</td>\n",
       "      <td>3.5</td>\n",
       "      <td>0</td>\n",
       "      <td>0</td>\n",
       "      <td>2</td>\n",
       "      <td>1</td>\n",
       "    </tr>\n",
       "    <tr>\n",
       "      <th>2</th>\n",
       "      <td>41</td>\n",
       "      <td>0</td>\n",
       "      <td>1</td>\n",
       "      <td>130</td>\n",
       "      <td>204</td>\n",
       "      <td>0</td>\n",
       "      <td>0</td>\n",
       "      <td>172</td>\n",
       "      <td>0</td>\n",
       "      <td>1.4</td>\n",
       "      <td>2</td>\n",
       "      <td>0</td>\n",
       "      <td>2</td>\n",
       "      <td>1</td>\n",
       "    </tr>\n",
       "    <tr>\n",
       "      <th>3</th>\n",
       "      <td>56</td>\n",
       "      <td>1</td>\n",
       "      <td>1</td>\n",
       "      <td>120</td>\n",
       "      <td>236</td>\n",
       "      <td>0</td>\n",
       "      <td>1</td>\n",
       "      <td>178</td>\n",
       "      <td>0</td>\n",
       "      <td>0.8</td>\n",
       "      <td>2</td>\n",
       "      <td>0</td>\n",
       "      <td>2</td>\n",
       "      <td>1</td>\n",
       "    </tr>\n",
       "    <tr>\n",
       "      <th>4</th>\n",
       "      <td>57</td>\n",
       "      <td>0</td>\n",
       "      <td>0</td>\n",
       "      <td>120</td>\n",
       "      <td>354</td>\n",
       "      <td>0</td>\n",
       "      <td>1</td>\n",
       "      <td>163</td>\n",
       "      <td>1</td>\n",
       "      <td>0.6</td>\n",
       "      <td>2</td>\n",
       "      <td>0</td>\n",
       "      <td>2</td>\n",
       "      <td>1</td>\n",
       "    </tr>\n",
       "  </tbody>\n",
       "</table>\n",
       "</div>"
      ],
      "text/plain": [
       "   age  sex  cp  trestbps  chol  fbs  restecg  thalach  exang  oldpeak  slope  \\\n",
       "0   63    1   3       145   233    1        0      150      0      2.3      0   \n",
       "1   37    1   2       130   250    0        1      187      0      3.5      0   \n",
       "2   41    0   1       130   204    0        0      172      0      1.4      2   \n",
       "3   56    1   1       120   236    0        1      178      0      0.8      2   \n",
       "4   57    0   0       120   354    0        1      163      1      0.6      2   \n",
       "\n",
       "   ca  thal  target  \n",
       "0   0     1       1  \n",
       "1   0     2       1  \n",
       "2   0     2       1  \n",
       "3   0     2       1  \n",
       "4   0     2       1  "
      ]
     },
     "execution_count": 3,
     "metadata": {},
     "output_type": "execute_result"
    }
   ],
   "source": [
    "print(df.columns)\n",
    "df.head()"
   ]
  },
  {
   "cell_type": "markdown",
   "metadata": {},
   "source": [
    "The columns refer to:\n",
    "- Age (years)\n",
    "- sex (1 = male; 0 = female)\n",
    "- cp = chest pain type (4 values)\n",
    "- trestbps = resting blood pressure  (in mm Hg on admission to the hospital)\n",
    "- chol = serum cholestoral in mg/dl\n",
    "- fbs = fasting blood sugar (fasting blood sugar > 120 mg/dl) (1 = true; 0 = false)\n",
    "- restecg = resting electrocardiographic results (values 0,1,2)\n",
    "- thalach = maximum heart rate achieved \n",
    "- exang = exercise induced angina\n",
    "- oldpeak = ST depression induced by exercise relative to rest\n",
    "- slope = slope of the peak exercise ST segment\n",
    "- ca = number of major vessels (0-3) colored by flourosopy\n",
    "- thal = {3 = normal; 6 = fixed defect; 7 = reversable defect}\n",
    "- target "
   ]
  },
  {
   "cell_type": "code",
   "execution_count": 4,
   "metadata": {},
   "outputs": [
    {
     "name": "stdout",
     "output_type": "stream",
     "text": [
      "<class 'pandas.core.frame.DataFrame'>\n",
      "RangeIndex: 303 entries, 0 to 302\n",
      "Data columns (total 14 columns):\n",
      "age         303 non-null int64\n",
      "sex         303 non-null int64\n",
      "cp          303 non-null int64\n",
      "trestbps    303 non-null int64\n",
      "chol        303 non-null int64\n",
      "fbs         303 non-null int64\n",
      "restecg     303 non-null int64\n",
      "thalach     303 non-null int64\n",
      "exang       303 non-null int64\n",
      "oldpeak     303 non-null float64\n",
      "slope       303 non-null int64\n",
      "ca          303 non-null int64\n",
      "thal        303 non-null int64\n",
      "target      303 non-null int64\n",
      "dtypes: float64(1), int64(13)\n",
      "memory usage: 33.2 KB\n"
     ]
    }
   ],
   "source": [
    "df.info()"
   ]
  },
  {
   "cell_type": "code",
   "execution_count": 5,
   "metadata": {},
   "outputs": [
    {
     "name": "stdout",
     "output_type": "stream",
     "text": [
      "<class 'pandas.core.frame.DataFrame'>\n",
      "RangeIndex: 303 entries, 0 to 302\n",
      "Data columns (total 14 columns):\n",
      "age         303 non-null int32\n",
      "sex         303 non-null bool\n",
      "cp          303 non-null int32\n",
      "trestbps    303 non-null int32\n",
      "chol        303 non-null int32\n",
      "fbs         303 non-null bool\n",
      "restecg     303 non-null int32\n",
      "thalach     303 non-null int64\n",
      "exang       303 non-null int64\n",
      "oldpeak     303 non-null float64\n",
      "slope       303 non-null int64\n",
      "ca          303 non-null int64\n",
      "thal        303 non-null int32\n",
      "target      303 non-null bool\n",
      "dtypes: bool(3), float64(1), int32(6), int64(4)\n",
      "memory usage: 19.9 KB\n"
     ]
    }
   ],
   "source": [
    "df.age = df.age.astype('int')\n",
    "df.sex = df.sex.astype('bool')\n",
    "df.cp = df.cp.astype('int')\n",
    "df.trestbps = df.trestbps.astype('int')\n",
    "df.chol = df.chol.astype('int')\n",
    "df.fbs = df.fbs.astype('bool')\n",
    "df.restecg = df.restecg.astype('int')\n",
    "df.thal = df.thal.astype('int')\n",
    "df.target = df.target.astype('bool');\n",
    "\n",
    "df.info()"
   ]
  },
  {
   "cell_type": "code",
   "execution_count": 6,
   "metadata": {},
   "outputs": [
    {
     "data": {
      "text/plain": [
       "age         0\n",
       "sex         0\n",
       "cp          0\n",
       "trestbps    0\n",
       "chol        0\n",
       "fbs         0\n",
       "restecg     0\n",
       "thalach     0\n",
       "exang       0\n",
       "oldpeak     0\n",
       "slope       0\n",
       "ca          0\n",
       "thal        0\n",
       "target      0\n",
       "dtype: int64"
      ]
     },
     "execution_count": 6,
     "metadata": {},
     "output_type": "execute_result"
    }
   ],
   "source": [
    "np.sum(df.isnull())"
   ]
  },
  {
   "cell_type": "code",
   "execution_count": 7,
   "metadata": {},
   "outputs": [
    {
     "data": {
      "text/html": [
       "<div>\n",
       "<style scoped>\n",
       "    .dataframe tbody tr th:only-of-type {\n",
       "        vertical-align: middle;\n",
       "    }\n",
       "\n",
       "    .dataframe tbody tr th {\n",
       "        vertical-align: top;\n",
       "    }\n",
       "\n",
       "    .dataframe thead th {\n",
       "        text-align: right;\n",
       "    }\n",
       "</style>\n",
       "<table border=\"1\" class=\"dataframe\">\n",
       "  <thead>\n",
       "    <tr style=\"text-align: right;\">\n",
       "      <th></th>\n",
       "      <th>age</th>\n",
       "      <th>cp</th>\n",
       "      <th>trestbps</th>\n",
       "      <th>chol</th>\n",
       "      <th>restecg</th>\n",
       "      <th>thalach</th>\n",
       "      <th>exang</th>\n",
       "      <th>oldpeak</th>\n",
       "      <th>slope</th>\n",
       "      <th>ca</th>\n",
       "      <th>thal</th>\n",
       "    </tr>\n",
       "  </thead>\n",
       "  <tbody>\n",
       "    <tr>\n",
       "      <th>count</th>\n",
       "      <td>303.000000</td>\n",
       "      <td>303.000000</td>\n",
       "      <td>303.000000</td>\n",
       "      <td>303.000000</td>\n",
       "      <td>303.000000</td>\n",
       "      <td>303.000000</td>\n",
       "      <td>303.000000</td>\n",
       "      <td>303.000000</td>\n",
       "      <td>303.000000</td>\n",
       "      <td>303.000000</td>\n",
       "      <td>303.000000</td>\n",
       "    </tr>\n",
       "    <tr>\n",
       "      <th>mean</th>\n",
       "      <td>54.366337</td>\n",
       "      <td>0.966997</td>\n",
       "      <td>131.623762</td>\n",
       "      <td>246.264026</td>\n",
       "      <td>0.528053</td>\n",
       "      <td>149.646865</td>\n",
       "      <td>0.326733</td>\n",
       "      <td>1.039604</td>\n",
       "      <td>1.399340</td>\n",
       "      <td>0.729373</td>\n",
       "      <td>2.313531</td>\n",
       "    </tr>\n",
       "    <tr>\n",
       "      <th>std</th>\n",
       "      <td>9.082101</td>\n",
       "      <td>1.032052</td>\n",
       "      <td>17.538143</td>\n",
       "      <td>51.830751</td>\n",
       "      <td>0.525860</td>\n",
       "      <td>22.905161</td>\n",
       "      <td>0.469794</td>\n",
       "      <td>1.161075</td>\n",
       "      <td>0.616226</td>\n",
       "      <td>1.022606</td>\n",
       "      <td>0.612277</td>\n",
       "    </tr>\n",
       "    <tr>\n",
       "      <th>min</th>\n",
       "      <td>29.000000</td>\n",
       "      <td>0.000000</td>\n",
       "      <td>94.000000</td>\n",
       "      <td>126.000000</td>\n",
       "      <td>0.000000</td>\n",
       "      <td>71.000000</td>\n",
       "      <td>0.000000</td>\n",
       "      <td>0.000000</td>\n",
       "      <td>0.000000</td>\n",
       "      <td>0.000000</td>\n",
       "      <td>0.000000</td>\n",
       "    </tr>\n",
       "    <tr>\n",
       "      <th>25%</th>\n",
       "      <td>47.500000</td>\n",
       "      <td>0.000000</td>\n",
       "      <td>120.000000</td>\n",
       "      <td>211.000000</td>\n",
       "      <td>0.000000</td>\n",
       "      <td>133.500000</td>\n",
       "      <td>0.000000</td>\n",
       "      <td>0.000000</td>\n",
       "      <td>1.000000</td>\n",
       "      <td>0.000000</td>\n",
       "      <td>2.000000</td>\n",
       "    </tr>\n",
       "    <tr>\n",
       "      <th>50%</th>\n",
       "      <td>55.000000</td>\n",
       "      <td>1.000000</td>\n",
       "      <td>130.000000</td>\n",
       "      <td>240.000000</td>\n",
       "      <td>1.000000</td>\n",
       "      <td>153.000000</td>\n",
       "      <td>0.000000</td>\n",
       "      <td>0.800000</td>\n",
       "      <td>1.000000</td>\n",
       "      <td>0.000000</td>\n",
       "      <td>2.000000</td>\n",
       "    </tr>\n",
       "    <tr>\n",
       "      <th>75%</th>\n",
       "      <td>61.000000</td>\n",
       "      <td>2.000000</td>\n",
       "      <td>140.000000</td>\n",
       "      <td>274.500000</td>\n",
       "      <td>1.000000</td>\n",
       "      <td>166.000000</td>\n",
       "      <td>1.000000</td>\n",
       "      <td>1.600000</td>\n",
       "      <td>2.000000</td>\n",
       "      <td>1.000000</td>\n",
       "      <td>3.000000</td>\n",
       "    </tr>\n",
       "    <tr>\n",
       "      <th>max</th>\n",
       "      <td>77.000000</td>\n",
       "      <td>3.000000</td>\n",
       "      <td>200.000000</td>\n",
       "      <td>564.000000</td>\n",
       "      <td>2.000000</td>\n",
       "      <td>202.000000</td>\n",
       "      <td>1.000000</td>\n",
       "      <td>6.200000</td>\n",
       "      <td>2.000000</td>\n",
       "      <td>4.000000</td>\n",
       "      <td>3.000000</td>\n",
       "    </tr>\n",
       "  </tbody>\n",
       "</table>\n",
       "</div>"
      ],
      "text/plain": [
       "              age          cp    trestbps        chol     restecg     thalach  \\\n",
       "count  303.000000  303.000000  303.000000  303.000000  303.000000  303.000000   \n",
       "mean    54.366337    0.966997  131.623762  246.264026    0.528053  149.646865   \n",
       "std      9.082101    1.032052   17.538143   51.830751    0.525860   22.905161   \n",
       "min     29.000000    0.000000   94.000000  126.000000    0.000000   71.000000   \n",
       "25%     47.500000    0.000000  120.000000  211.000000    0.000000  133.500000   \n",
       "50%     55.000000    1.000000  130.000000  240.000000    1.000000  153.000000   \n",
       "75%     61.000000    2.000000  140.000000  274.500000    1.000000  166.000000   \n",
       "max     77.000000    3.000000  200.000000  564.000000    2.000000  202.000000   \n",
       "\n",
       "            exang     oldpeak       slope          ca        thal  \n",
       "count  303.000000  303.000000  303.000000  303.000000  303.000000  \n",
       "mean     0.326733    1.039604    1.399340    0.729373    2.313531  \n",
       "std      0.469794    1.161075    0.616226    1.022606    0.612277  \n",
       "min      0.000000    0.000000    0.000000    0.000000    0.000000  \n",
       "25%      0.000000    0.000000    1.000000    0.000000    2.000000  \n",
       "50%      0.000000    0.800000    1.000000    0.000000    2.000000  \n",
       "75%      1.000000    1.600000    2.000000    1.000000    3.000000  \n",
       "max      1.000000    6.200000    2.000000    4.000000    3.000000  "
      ]
     },
     "execution_count": 7,
     "metadata": {},
     "output_type": "execute_result"
    }
   ],
   "source": [
    "df.describe()"
   ]
  },
  {
   "cell_type": "code",
   "execution_count": 8,
   "metadata": {},
   "outputs": [
    {
     "data": {
      "text/html": [
       "<div>\n",
       "<style scoped>\n",
       "    .dataframe tbody tr th:only-of-type {\n",
       "        vertical-align: middle;\n",
       "    }\n",
       "\n",
       "    .dataframe tbody tr th {\n",
       "        vertical-align: top;\n",
       "    }\n",
       "\n",
       "    .dataframe thead th {\n",
       "        text-align: right;\n",
       "    }\n",
       "</style>\n",
       "<table border=\"1\" class=\"dataframe\">\n",
       "  <thead>\n",
       "    <tr style=\"text-align: right;\">\n",
       "      <th></th>\n",
       "      <th>age</th>\n",
       "      <th>sex</th>\n",
       "      <th>cp</th>\n",
       "      <th>trestbps</th>\n",
       "      <th>chol</th>\n",
       "      <th>fbs</th>\n",
       "      <th>restecg</th>\n",
       "      <th>thalach</th>\n",
       "      <th>exang</th>\n",
       "      <th>oldpeak</th>\n",
       "      <th>slope</th>\n",
       "      <th>ca</th>\n",
       "      <th>thal</th>\n",
       "    </tr>\n",
       "    <tr>\n",
       "      <th>target</th>\n",
       "      <th></th>\n",
       "      <th></th>\n",
       "      <th></th>\n",
       "      <th></th>\n",
       "      <th></th>\n",
       "      <th></th>\n",
       "      <th></th>\n",
       "      <th></th>\n",
       "      <th></th>\n",
       "      <th></th>\n",
       "      <th></th>\n",
       "      <th></th>\n",
       "      <th></th>\n",
       "    </tr>\n",
       "  </thead>\n",
       "  <tbody>\n",
       "    <tr>\n",
       "      <th>False</th>\n",
       "      <td>58</td>\n",
       "      <td>True</td>\n",
       "      <td>0</td>\n",
       "      <td>130</td>\n",
       "      <td>249</td>\n",
       "      <td>False</td>\n",
       "      <td>0</td>\n",
       "      <td>142</td>\n",
       "      <td>1</td>\n",
       "      <td>1.4</td>\n",
       "      <td>1</td>\n",
       "      <td>1</td>\n",
       "      <td>3</td>\n",
       "    </tr>\n",
       "    <tr>\n",
       "      <th>True</th>\n",
       "      <td>52</td>\n",
       "      <td>True</td>\n",
       "      <td>2</td>\n",
       "      <td>130</td>\n",
       "      <td>234</td>\n",
       "      <td>False</td>\n",
       "      <td>1</td>\n",
       "      <td>161</td>\n",
       "      <td>0</td>\n",
       "      <td>0.2</td>\n",
       "      <td>2</td>\n",
       "      <td>0</td>\n",
       "      <td>2</td>\n",
       "    </tr>\n",
       "  </tbody>\n",
       "</table>\n",
       "</div>"
      ],
      "text/plain": [
       "        age   sex  cp  trestbps  chol    fbs  restecg  thalach  exang  \\\n",
       "target                                                                  \n",
       "False    58  True   0       130   249  False        0      142      1   \n",
       "True     52  True   2       130   234  False        1      161      0   \n",
       "\n",
       "        oldpeak  slope  ca  thal  \n",
       "target                            \n",
       "False       1.4      1   1     3  \n",
       "True        0.2      2   0     2  "
      ]
     },
     "execution_count": 8,
     "metadata": {},
     "output_type": "execute_result"
    }
   ],
   "source": [
    "df.groupby('target').median() # it seems that people without the disease have a higher chol. value..."
   ]
  },
  {
   "cell_type": "markdown",
   "metadata": {},
   "source": [
    "# Data visualization"
   ]
  },
  {
   "cell_type": "code",
   "execution_count": 9,
   "metadata": {},
   "outputs": [
    {
     "data": {
      "text/plain": [
       "Text(0, 0.5, 'Fraction of population with disease')"
      ]
     },
     "execution_count": 9,
     "metadata": {},
     "output_type": "execute_result"
    },
    {
     "data": {
      "image/png": "[encoded data removed]",
      "text/plain": [
       "<Figure size 432x288 with 1 Axes>"
      ]
     },
     "metadata": {
      "needs_background": "light"
     },
     "output_type": "display_data"
    }
   ],
   "source": [
    "def ecdf(data):\n",
    "    \"\"\"Compute Empyrical Cumulative Distribution Function (ECDF) for a one-dimensional array of measurements.\"\"\"\n",
    "    # Number of data points: n\n",
    "    n = len(data)\n",
    "\n",
    "    # x-data for the ECDF: x\n",
    "    x = np.sort(data)\n",
    "\n",
    "    # y-data for the ECDF: y\n",
    "    y = np.arange(1, n+1) / n\n",
    "\n",
    "    return x, y\n",
    "\n",
    "# x,y = ecdf(df.age)\n",
    "# plt.scatter(x,y, marker='.', color='k')\n",
    "\n",
    "xf, yf = ecdf(df[df.sex==False].age)\n",
    "plt.scatter(xf,yf, marker='.', label='Male')\n",
    "\n",
    "xm, ym = ecdf(df[df.sex==True].age)\n",
    "plt.scatter(xm,ym, marker='.', label='Female')\n",
    "\n",
    "plt.legend(loc='best')\n",
    "\n",
    "plt.xlabel('Age')\n",
    "plt.ylabel('Fraction of population with disease')"
   ]
  },
  {
   "cell_type": "code",
   "execution_count": 10,
   "metadata": {},
   "outputs": [],
   "source": [
    "#Some definitions\n",
    "dmax = df.max()\n",
    "dmin = df.min()\n",
    "n_m = df[df.sex==1].age.count()\n",
    "n_f = df[df.sex==0].age.count()\n",
    "(1/n_m)*np.ones(len(df[(df.target==1) & (df.sex==1)].age) );"
   ]
  },
  {
   "cell_type": "code",
   "execution_count": 11,
   "metadata": {},
   "outputs": [
    {
     "data": {
      "image/png": "[encoded data removed]",
      "text/plain": [
       "<Figure size 1224x288 with 3 Axes>"
      ]
     },
     "metadata": {
      "needs_background": "light"
     },
     "output_type": "display_data"
    }
   ],
   "source": [
    "n_bins = np.linspace(dmin.age, dmax.age, int(np.sqrt(df.age.count())) ) #it's good practice to have the number of bins to be the sqrt(len(data))\n",
    "\n",
    "fig, ax = plt.subplots(ncols =3, figsize = (17,4) )\n",
    "\n",
    "ax[0].hist(df.age, bins=n_bins, color='b', label='total') ;\n",
    "ax[0].hist(df[df.target==1].age, bins=n_bins, color='r',alpha=1, label = 'Heart diseased')\n",
    "\n",
    "ax[0].legend(loc='best')\n",
    "ax[0].set(title='People with disease', xlabel='Age', ylabel='Count');\n",
    "\n",
    "#We have to present each of the diseased males or females with respect to the total number of each sample \n",
    "male_weights = (1/n_m)*np.ones(len(df[(df.target==1) & (df.sex==1)].age) )*100\n",
    "female_weights = (1/n_f)*np.ones(len(df[(df.target==1) & (df.sex==0)].age) )*100\n",
    "\n",
    "ax[1].hist(df[(df.target==1) & (df.sex==0)].age, bins=n_bins, label = 'Female', weights=female_weights)\n",
    "ax[1].hist(df[(df.target==1) & (df.sex==1)].age, bins=n_bins, label='Male' , alpha=.85, weights=male_weights ) ;\n",
    "\n",
    "\n",
    "ax[1].legend(loc='best')\n",
    "ax[1].set(title='Sex',xlabel='Age', ylabel='% of sample');\n",
    "\n",
    "ax[2].hist(df[df.target==1].cp, bins=[0,1,2,3,4] ,color='k') ;\n",
    "\n",
    "ax[2].set(title='People with chest pain',xlabel='Chest pain', ylabel='Number of people');\n"
   ]
  },
  {
   "cell_type": "markdown",
   "metadata": {},
   "source": [
    "One would expect that factors like 'sex', 'age' and 'chol' would be really meaningful for prediction..."
   ]
  },
  {
   "cell_type": "code",
   "execution_count": 12,
   "metadata": {},
   "outputs": [
    {
     "data": {
      "image/png": "[encoded data removed]",
      "text/plain": [
       "<Figure size 432x288 with 1 Axes>"
      ]
     },
     "metadata": {
      "needs_background": "light"
     },
     "output_type": "display_data"
    }
   ],
   "source": [
    "plot = sns.boxplot(x='target', y='chol',data=df )\n",
    "plot.set_xticklabels(['Female', 'Male']);"
   ]
  },
  {
   "cell_type": "markdown",
   "metadata": {},
   "source": [
    "### Correlation matrix\n",
    "This visually helps to find the most important features (without mixing them by a preprocess like PCA)"
   ]
  },
  {
   "cell_type": "code",
   "execution_count": 13,
   "metadata": {},
   "outputs": [
    {
     "name": "stdout",
     "output_type": "stream",
     "text": [
      "The highest correlation between 'target' and 'features' comes from\n",
      " exang     -0.436757\n",
      "cp         0.433798\n",
      "oldpeak   -0.430696\n",
      "thalach    0.421741\n",
      "ca        -0.391724\n",
      "Name: target, dtype: float64 \n",
      "\n"
     ]
    },
    {
     "data": {
      "image/png": "[encoded data removed]",
      "text/plain": [
       "<Figure size 720x720 with 2 Axes>"
      ]
     },
     "metadata": {
      "needs_background": "light"
     },
     "output_type": "display_data"
    }
   ],
   "source": [
    "def heat_corr(X, y, n_features=6 ):\n",
    "    '''This function takes the features matrix (X) and the target vector (y) and gives back an ORDERED correlation heat map.\n",
    "    Needs seaborn, pandas and numpy\n",
    "    X = features\n",
    "    y = target\n",
    "    n_features = number of features to focus on\n",
    "    '''\n",
    "    corrmatrix = pd.concat([X, y],axis=1).corr()\n",
    "    # Get the names\n",
    "    top_corr_features = corrmatrix.index\n",
    "    plt.figure(figsize=(10,10))\n",
    "      \n",
    "    # Take the absolute value of the correlation matrix\n",
    "    A = corrmatrix.apply(np.absolute)\n",
    "    # Highest correlated functions to the target!!!\n",
    "    # This means we get a \"measure\" of how important each feature is\n",
    "    important = A.sort_values('target', ascending=False).iloc[1:].index.to_list()\n",
    "    l = corrmatrix[important].loc['target']\n",
    "#     ordered_matrix = corrmatrix #corrmatrix[important].reindex(important).iloc[:n_features,:n_features]#.sort_values(by=important)        \n",
    "    ordered_matrix = corrmatrix[important].reindex(important).iloc[:n_features,:n_features]#.sort_values(by=important)    \n",
    "    \n",
    "    # Plot heat map\n",
    "    plot = sns.heatmap(ordered_matrix,annot=True,cmap=\"RdYlGn\", vmin=-1, vmax=1)\n",
    "        \n",
    "    return (plot, print('The highest correlation between \\'target\\' and \\'features\\' comes from\\n', l[:n_features], '\\n') )\n",
    "    \n",
    "heat_corr(df.drop('target', axis=1), df.target, n_features=5);"
   ]
  },
  {
   "cell_type": "markdown",
   "metadata": {},
   "source": [
    "It doesn't really seem like what we thought about 'sex', 'age' and 'chol' is not entirely true."
   ]
  },
  {
   "cell_type": "markdown",
   "metadata": {},
   "source": [
    "# ML models\n",
    "\n",
    "Before starting to train a model it is important to choose the size of the training set. Here  I have decided to make an 80% (train) - 20% (test) division. "
   ]
  },
  {
   "cell_type": "code",
   "execution_count": 14,
   "metadata": {},
   "outputs": [],
   "source": [
    "#ML imports\n",
    "from sklearn import metrics\n",
    "from sklearn.model_selection import train_test_split, learning_curve\n",
    "from sklearn.metrics import confusion_matrix, accuracy_score, f1_score\n",
    "from sklearn.preprocessing import StandardScaler \n",
    "\n",
    "y = df.target\n",
    "X = df.drop('target', axis=1)\n",
    "\n",
    "# Divide the data to train and test the model\n",
    "X_train, X_test, y_train, y_test = train_test_split(X, y, test_size = 0.2, random_state = 0)\n",
    "\n",
    "# Here we fit and transform the X_train and with those same parameters we transform X_test\n",
    "sc = StandardScaler()\n",
    "X_train = sc.fit_transform(X_train) #fit and transform\n",
    "X_test = sc.transform(X_test) #transform"
   ]
  },
  {
   "cell_type": "markdown",
   "metadata": {},
   "source": [
    "## Naive Bayes\n",
    "\n",
    "We apply Gaussian NB"
   ]
  },
  {
   "cell_type": "code",
   "execution_count": 15,
   "metadata": {},
   "outputs": [
    {
     "name": "stdout",
     "output_type": "stream",
     "text": [
      " Raw accuracy for GNB = 85.246% \n",
      " accuracy_score function for GNB gives = 85.246% \n",
      " f1_score function for GNB gives = 87.324% \n",
      " Model parameters = {'priors': None, 'var_smoothing': 1e-09} \n",
      "\n"
     ]
    },
    {
     "data": {
      "image/png": "[encoded data removed]",
      "text/plain": [
       "<Figure size 432x288 with 1 Axes>"
      ]
     },
     "metadata": {
      "needs_background": "light"
     },
     "output_type": "display_data"
    }
   ],
   "source": [
    "from sklearn.naive_bayes import GaussianNB\n",
    "\n",
    "model = GaussianNB()\n",
    "model.fit(X_train, y_train)\n",
    "\n",
    "y_predicted = model.predict(X_test)\n",
    "\n",
    "#In the following plot the Transpose of the matrix gives the correct labeling that I like in the figure\n",
    "mat = confusion_matrix(y_test, y_predicted).T\n",
    "sns.heatmap(mat, square=True, annot=True, fmt='d', cbar=False, xticklabels=['Healthy', 'Disease'] , yticklabels=['Healthy', 'Disease'] )\n",
    "\n",
    "plt.xlabel('True label')\n",
    "plt.ylabel('Predicted label');\n",
    "\n",
    "#print(y_predicted.sum(), y_test.sum() )\n",
    "\n",
    "print(' Raw accuracy for GNB = {:.3f}%'.format( (mat[0,0] + mat[1,1])/len(y_test)*100 )\n",
    "      ,'\\n accuracy_score function for GNB gives = {:.3f}%'.format(accuracy_score(y_test, y_predicted)*100 )\n",
    "      ,'\\n f1_score function for GNB gives = {:.3f}%'.format( f1_score(y_test, y_predicted)*100 )\n",
    "      ,'\\n Model parameters =', model.get_params(),'\\n'\n",
    "     )\n",
    "\n",
    "#We can compare with the usual metrics result:\n",
    "#print(metrics.classification_report(y_predicted, y_test, digits=5) )"
   ]
  },
  {
   "cell_type": "markdown",
   "metadata": {},
   "source": [
    "## SVC"
   ]
  },
  {
   "cell_type": "code",
   "execution_count": 16,
   "metadata": {},
   "outputs": [],
   "source": [
    "from sklearn.svm import SVC\n",
    "from sklearn.model_selection import GridSearchCV\n",
    "\n",
    "#We'll use a radial kernel \n",
    "model = SVC(kernel='rbf',  C=1, random_state=0)\n",
    "model.fit(X_train, y_train) # Train the model to begin the test\n",
    "\n",
    "# model.get_params().keys()  # What can be tuned?\n",
    "\n",
    "# Optimisation of hyper-parameters fot this dataset\n",
    "param_grid = {'C': [.1,.25,.5, 1, 5, 10, 50, 100],\n",
    "              'gamma': [0.0001, 0.0005, 0.001, 0.005,.05]}\n",
    "grid = GridSearchCV(model, param_grid, cv=7)"
   ]
  },
  {
   "cell_type": "code",
   "execution_count": 17,
   "metadata": {},
   "outputs": [
    {
     "data": {
      "text/plain": [
       "dict_keys(['C', 'cache_size', 'class_weight', 'coef0', 'decision_function_shape', 'degree', 'gamma', 'kernel', 'max_iter', 'probability', 'random_state', 'shrinking', 'tol', 'verbose'])"
      ]
     },
     "execution_count": 17,
     "metadata": {},
     "output_type": "execute_result"
    }
   ],
   "source": [
    "model.get_params().keys() # What can be tuned?"
   ]
  },
  {
   "cell_type": "code",
   "execution_count": 18,
   "metadata": {},
   "outputs": [
    {
     "name": "stdout",
     "output_type": "stream",
     "text": [
      "Wall time: 1.04 s\n"
     ]
    },
    {
     "name": "stderr",
     "output_type": "stream",
     "text": [
      "C:\\Users\\cuspi\\Anaconda3\\lib\\site-packages\\sklearn\\model_selection\\_search.py:813: DeprecationWarning: The default of the `iid` parameter will change from True to False in version 0.22 and will be removed in 0.24. This will change numeric results when test-set sizes are unequal.\n",
      "  DeprecationWarning)\n"
     ]
    },
    {
     "data": {
      "text/plain": [
       "{'C': 0.1, 'gamma': 0.05}"
      ]
     },
     "execution_count": 18,
     "metadata": {},
     "output_type": "execute_result"
    }
   ],
   "source": [
    "%time grid.fit(X_train, y_train)\n",
    "grid.best_params_  #Best params!"
   ]
  },
  {
   "cell_type": "code",
   "execution_count": 19,
   "metadata": {},
   "outputs": [
    {
     "name": "stdout",
     "output_type": "stream",
     "text": [
      " Raw accuracy for SVC = 83.607% \n",
      " accuracy_score function for SVC gives = 83.607% \n",
      " f1_score function for SVC gives = 86.486% \n",
      "\n",
      " Model parameters = {'C': 0.1, 'cache_size': 200, 'class_weight': None, 'coef0': 0.0, 'decision_function_shape': 'ovr', 'degree': 3, 'gamma': 0.05, 'kernel': 'rbf', 'max_iter': -1, 'probability': False, 'random_state': 0, 'shrinking': True, 'tol': 0.001, 'verbose': False}\n"
     ]
    },
    {
     "data": {
      "image/png": "[encoded data removed]",
      "text/plain": [
       "<Figure size 432x288 with 1 Axes>"
      ]
     },
     "metadata": {
      "needs_background": "light"
     },
     "output_type": "display_data"
    }
   ],
   "source": [
    "model = grid.best_estimator_ #Best model in town 😎\n",
    "\n",
    "y_predicted = model.predict(X_test)\n",
    "\n",
    "#In the following plot the Transpose of the matrix gives the correct labeling that I like in the figure\n",
    "mat = confusion_matrix(y_test, y_predicted).T\n",
    "sns.heatmap(mat, square=True, annot=True, fmt='d', cbar=False, xticklabels=['Healthy', 'Disease'] , yticklabels=['Healthy', 'Disease'] )\n",
    "\n",
    "plt.xlabel('True label')\n",
    "plt.ylabel('Predicted label');\n",
    "\n",
    "#print(y_predicted.sum(), y_test.sum() )\n",
    "\n",
    "print(' Raw accuracy for SVC = {:.3f}%'.format( (mat[0,0] + mat[1,1])/len(y_test)*100 )\n",
    "      ,'\\n accuracy_score function for SVC gives = {:.3f}%'.format(accuracy_score(y_test, y_predicted)*100 )\n",
    "      ,'\\n f1_score function for SVC gives = {:.3f}%'.format( f1_score(y_test, y_predicted)*100 )\n",
    "      ,'\\n\\n Model parameters =', model.get_params()     )\n",
    "\n",
    "# print(accuracy_score(y_test, y_predicted), '\\n', f1_score(y_test, y_predicted) )\n",
    "##f1score"
   ]
  },
  {
   "cell_type": "markdown",
   "metadata": {},
   "source": [
    "## Logistic regression\n",
    "\n",
    "Arguably the best model to predict an outcome in this problem will be a logistic regression. "
   ]
  },
  {
   "cell_type": "code",
   "execution_count": 20,
   "metadata": {},
   "outputs": [
    {
     "name": "stdout",
     "output_type": "stream",
     "text": [
      " Raw accuracy for LogReg = 83.607% \n",
      " accuracy_score function for LogReg gives = 83.607% \n",
      " f1_score function for LogReg gives = 85.714% \n",
      "\n",
      " Model parameters = {'C': 1.0, 'class_weight': None, 'dual': False, 'fit_intercept': True, 'intercept_scaling': 1, 'l1_ratio': 0.1, 'max_iter': 100, 'multi_class': 'warn', 'n_jobs': None, 'penalty': 'elasticnet', 'random_state': None, 'solver': 'saga', 'tol': 0.0001, 'verbose': 0, 'warm_start': False}\n"
     ]
    },
    {
     "data": {
      "image/png": "[encoded data removed]",
      "text/plain": [
       "<Figure size 432x288 with 1 Axes>"
      ]
     },
     "metadata": {
      "needs_background": "light"
     },
     "output_type": "display_data"
    }
   ],
   "source": [
    "from sklearn.linear_model import LogisticRegression\n",
    "\n",
    "#Use the model:\n",
    "model = LogisticRegression(solver='saga' ,penalty='elasticnet', l1_ratio=0.1)\n",
    "model.fit(X_train, y_train)\n",
    "# model.get_params().keys()  # What can be tuned?\n",
    "\n",
    "y_predicted = model.fit(X_train, y_train).predict(X_test)\n",
    "\n",
    "#In the following plot the Transpose of the matrix gives the correct labeling that I like in the figure\n",
    "mat = confusion_matrix(y_test, y_predicted).T\n",
    "sns.heatmap(mat, square=True, annot=True, fmt='d', cbar=False, xticklabels=['Healthy', 'Disease'] , yticklabels=['Healthy', 'Disease'] )\n",
    "\n",
    "plt.xlabel('True label')\n",
    "plt.ylabel('Predicted label');\n",
    "\n",
    "#print(y_predicted.sum(), y_test.sum() )\n",
    "\n",
    "print(' Raw accuracy for LogReg = {:.3f}%'.format( (mat[0,0] + mat[1,1])/len(y_test)*100 )\n",
    "      ,'\\n accuracy_score function for LogReg gives = {:.3f}%'.format(accuracy_score(y_test, y_predicted)*100 )\n",
    "      ,'\\n f1_score function for LogReg gives = {:.3f}%'.format( f1_score(y_test, y_predicted)*100 )\n",
    "      ,'\\n\\n Model parameters =', model.get_params()     )\n",
    "\n",
    "# print(accuracy_score(y_test, y_predicted), '\\n', f1_score(y_test, y_predicted) )\n",
    "##f1score"
   ]
  },
  {
   "cell_type": "markdown",
   "metadata": {},
   "source": [
    "## Random Forests"
   ]
  },
  {
   "cell_type": "code",
   "execution_count": 21,
   "metadata": {},
   "outputs": [
    {
     "name": "stdout",
     "output_type": "stream",
     "text": [
      " Raw accuracy for RandForest = 88.525% \n",
      " accuracy_score function for RandForest gives = 88.525% \n",
      " f1_score function for RandForest gives = 89.855% \n",
      "\n",
      " Model parameters = {'bootstrap': True, 'class_weight': None, 'criterion': 'gini', 'max_depth': None, 'max_features': 'auto', 'max_leaf_nodes': None, 'min_impurity_decrease': 0.0, 'min_impurity_split': None, 'min_samples_leaf': 1, 'min_samples_split': 2, 'min_weight_fraction_leaf': 0.0, 'n_estimators': 100, 'n_jobs': None, 'oob_score': False, 'random_state': None, 'verbose': 0, 'warm_start': False}\n"
     ]
    },
    {
     "name": "stderr",
     "output_type": "stream",
     "text": [
      "C:\\Users\\cuspi\\Anaconda3\\lib\\site-packages\\sklearn\\model_selection\\_search.py:813: DeprecationWarning: The default of the `iid` parameter will change from True to False in version 0.22 and will be removed in 0.24. This will change numeric results when test-set sizes are unequal.\n",
      "  DeprecationWarning)\n"
     ]
    },
    {
     "data": {
      "image/png": "[encoded data removed]",
      "text/plain": [
       "<Figure size 432x288 with 1 Axes>"
      ]
     },
     "metadata": {
      "needs_background": "light"
     },
     "output_type": "display_data"
    }
   ],
   "source": [
    "from sklearn.ensemble import RandomForestClassifier\n",
    "\n",
    "#Use the model:\n",
    "model = RandomForestClassifier(n_estimators = 100)\n",
    "model.fit(X_train, y_train)\n",
    "# model.get_params().keys()  # What can be tuned?\n",
    "\n",
    "# Optimisation of hyper-parameters fot this dataset\n",
    "param_grid = {'n_estimators': [10,50,100, 200] }\n",
    "grid = GridSearchCV(model, param_grid, cv=7)\n",
    "\n",
    "grid.fit(X_train, y_train)\n",
    "\n",
    "\n",
    "#we can actually straightforward use the gridsearch as a model!!! #🤦‍\n",
    "y_predicted = grid.predict(X_test)\n",
    "\n",
    "#In the following plot the Transpose of the matrix gives the correct labeling that I like in the figure\n",
    "mat = confusion_matrix(y_test, y_predicted).T\n",
    "sns.heatmap(mat, square=True, annot=True, fmt='d', cbar=False, xticklabels=['Healthy', 'Disease'] , yticklabels=['Healthy', 'Disease'] )\n",
    "\n",
    "plt.xlabel('True label')\n",
    "plt.ylabel('Predicted label');\n",
    "\n",
    "#print(y_predicted.sum(), y_test.sum() )\n",
    "\n",
    "print(' Raw accuracy for RandForest = {:.3f}%'.format( (mat[0,0] + mat[1,1])/len(y_test)*100 )\n",
    "      ,'\\n accuracy_score function for RandForest gives = {:.3f}%'.format(accuracy_score(y_test, y_predicted)*100 )\n",
    "      ,'\\n f1_score function for RandForest gives = {:.3f}%'.format( f1_score(y_test, y_predicted)*100 )\n",
    "      ,'\\n\\n Model parameters =', model.get_params()     )\n",
    "\n",
    "# print(accuracy_score(y_test, y_predicted), '\\n', f1_score(y_test, y_predicted) )\n",
    "##f1score"
   ]
  },
  {
   "cell_type": "markdown",
   "metadata": {},
   "source": [
    "## KDE Classifier\n",
    "\n",
    "Now let's bring the bazooka of a Bayesian KDE to hopefully get a better result in this task.\n",
    "\n",
    "We begin by defining the following class:\n"
   ]
  },
  {
   "cell_type": "code",
   "execution_count": 22,
   "metadata": {},
   "outputs": [],
   "source": [
    "from sklearn.base import BaseEstimator, ClassifierMixin\n",
    "from sklearn.neighbors import KernelDensity\n",
    "\n",
    "#Class to make a not naive Bayes estimator\n",
    "#It is most ocnvenient to inherit from BaseEstimator and ClassifierMixin\n",
    "class KDEClassifier(BaseEstimator, ClassifierMixin):\n",
    "    \"\"\"Bayesian generative classification based on KDE\n",
    "    \n",
    "    Parameters\n",
    "    ----------\n",
    "    bandwidth : float\n",
    "        the kernel bandwidth within each class\n",
    "    kernel : str\n",
    "        the kernel name, passed to KernelDensity\n",
    "    \"\"\"\n",
    "    #After insatiating, make a copy of the parameters\n",
    "    def __init__(self, bandwidth=1.0, kernel='gaussian'):\n",
    "        self.bandwidth = bandwidth\n",
    "        self.kernel = kernel\n",
    "        \n",
    "    # Train the data    \n",
    "    def fit(self, X, y):\n",
    "        #Get the classes\n",
    "        self.classes_ = np.sort(np.unique(y))\n",
    "        #Divide the training set X into dif classes\n",
    "        training_sets = [X[y == yi] for yi in self.classes_]\n",
    "        #Make a KDE for each class\n",
    "        self.models_ = [KernelDensity(bandwidth=self.bandwidth,\n",
    "                                      kernel=self.kernel).fit(Xi)\n",
    "                        for Xi in training_sets]\n",
    "        #Get the class priors (probability of that class)\n",
    "        # we use log because later, score_samples uses log \n",
    "        self.logpriors_ = [np.log( Xi.shape[0] / X.shape[0] )\n",
    "                           for Xi in training_sets]\n",
    "        return self #ALWAYS return self so we can chain instances or commands\n",
    "    \n",
    "    #Predicting labels on new data    \n",
    "    #Predict_proba gives the matrix of the log prob of each element \n",
    "    #   to belong to each diff class \n",
    "    def predict_proba(self, X):\n",
    "        logprobs = np.array([model.score_samples(X)\n",
    "                             for model in self.models_]).T #The shape is [n_samples, n_classes]. \n",
    "        #Entry [i,j] is the posterior probability that sample i is a member of class j\n",
    "        #result is P(z|y)P(y)\n",
    "        result = np.exp(logprobs + self.logpriors_)\n",
    "        #return fractions\n",
    "        return result / result.sum(1, keepdims=True)\n",
    "    \n",
    "    #Take the maximum value of each row\n",
    "    def predict(self, X):\n",
    "        return self.classes_[np.argmax(self.predict_proba(X), 1)]"
   ]
  },
  {
   "cell_type": "code",
   "execution_count": 31,
   "metadata": {},
   "outputs": [
    {
     "name": "stderr",
     "output_type": "stream",
     "text": [
      "C:\\Users\\cuspi\\Anaconda3\\lib\\site-packages\\sklearn\\model_selection\\_split.py:1978: FutureWarning: The default value of cv will change from 3 to 5 in version 0.22. Specify it explicitly to silence this warning.\n",
      "  warnings.warn(CV_WARNING, FutureWarning)\n"
     ]
    },
    {
     "name": "stdout",
     "output_type": "stream",
     "text": [
      "{'bandwidth': 1.4490181504861988}\n",
      "accuracy of best model (train step) = 0.8223140495867769\n",
      " Raw accuracy for KDEClassiffier = 80.328% \n",
      " accuracy_score function for KDEClassiffier gives = 80.328% \n",
      " f1_score function for KDEClassiffier gives = 83.784%\n"
     ]
    },
    {
     "data": {
      "image/png": "[encoded data removed]",
      "text/plain": [
       "<Figure size 432x288 with 1 Axes>"
      ]
     },
     "metadata": {
      "needs_background": "light"
     },
     "output_type": "display_data"
    }
   ],
   "source": [
    "# We now use the grid to find the best bandwidth and \n",
    "#fit it to our problem: \n",
    "bandwidths = 10** np.linspace(0,2,150)\n",
    "grid = GridSearchCV(KDEClassifier(),   \n",
    "                   {'bandwidth':bandwidths})\n",
    "#fit\n",
    "grid.fit(X_train, y_train)\n",
    "#To get scores we need to transform to a dataframe...\n",
    "cv_results = pd.DataFrame(grid.cv_results_)\n",
    "\n",
    "#Get scores\n",
    "scores = cv_results['mean_test_score'].tolist()\n",
    "\n",
    "#Print best bandwidth and best score of cross-validation\n",
    "print(grid.best_params_); #Best model in town 😎\n",
    "print('accuracy of best model (train step) =', grid.best_score_) # accuracy of the best\n",
    "\n",
    "#Switch to best estimator (not necessary actually) \n",
    "grid = grid.best_estimator_\n",
    "\n",
    "#Predict\n",
    "y_predicted = grid.predict(X_test)\n",
    "\n",
    "#In the following plot the Transpose of the matrix gives the correct labeling that I like in the figure\n",
    "mat = confusion_matrix(y_test, y_predicted).T\n",
    "sns.heatmap(mat, square=True, annot=True, fmt='d', cbar=False, xticklabels=['Healthy', 'Disease'] , yticklabels=['Healthy', 'Disease'] )\n",
    "\n",
    "plt.xlabel('True label')\n",
    "plt.ylabel('Predicted label');\n",
    "\n",
    "#print(y_predicted.sum(), y_test.sum() )\n",
    "\n",
    "print(' Raw accuracy for KDEClassiffier = {:.3f}%'.format( (mat[0,0] + mat[1,1])/len(y_test)*100 )\n",
    "      ,'\\n accuracy_score function for KDEClassiffier gives = {:.3f}%'.format(accuracy_score(y_test, y_predicted)*100 )\n",
    "      ,'\\n f1_score function for KDEClassiffier gives = {:.3f}%'.format( f1_score(y_test, y_predicted)*100 )    )\n"
   ]
  },
  {
   "cell_type": "markdown",
   "metadata": {},
   "source": [
    "## Summary\n",
    "\n",
    "The findings of this quick study help to compare different models  of machine learning (individually), which make it seem as though Random Forests were:\n",
    "1. Gaussian Naive Bayes\n",
    "2. Random Forests\n",
    "3. Support Vector Classifier\n",
    "4. Logistic regression,\n",
    "in that order.\n",
    "\n",
    "Without making any sort of PCA, we have also seen that using the `heat_corr` function, the most important variables are:\n",
    "1. Exercise induced angina\n",
    "2. Chest pain \n",
    "3. ST depression induced by exercise relative to rest\n",
    "4. Maximum heart rate achieved \n",
    "5. Number of major vessels colored by flourosopy\n",
    "\n",
    "As we can see on the heatmap below, the correlation amongst some of them is slightly important and so we would need to make use of a method to deal with it.\n",
    "\n",
    "Finally, we should say that the data set number of instances being 303 is low to make any significative predictions. "
   ]
  },
  {
   "cell_type": "code",
   "execution_count": 23,
   "metadata": {},
   "outputs": [
    {
     "name": "stdout",
     "output_type": "stream",
     "text": [
      "The highest correlation between 'target' and 'features' comes from\n",
      " exang     -0.436757\n",
      "cp         0.433798\n",
      "oldpeak   -0.430696\n",
      "thalach    0.421741\n",
      "ca        -0.391724\n",
      "Name: target, dtype: float64 \n",
      "\n"
     ]
    },
    {
     "data": {
      "image/png": "[encoded data removed]",
      "text/plain": [
       "<Figure size 720x720 with 2 Axes>"
      ]
     },
     "metadata": {
      "needs_background": "light"
     },
     "output_type": "display_data"
    }
   ],
   "source": [
    "heat_corr(df.drop('target', axis=1), df.target,5);"
   ]
  },
  {
   "cell_type": "code",
   "execution_count": 24,
   "metadata": {},
   "outputs": [
    {
     "data": {
      "text/plain": [
       "Text(0, 0.5, 'Cumulative explained variance')"
      ]
     },
     "execution_count": 24,
     "metadata": {},
     "output_type": "execute_result"
    },
    {
     "data": {
      "image/png": "[encoded data removed]",
      "text/plain": [
       "<Figure size 432x288 with 1 Axes>"
      ]
     },
     "metadata": {
      "needs_background": "light"
     },
     "output_type": "display_data"
    }
   ],
   "source": [
    "from sklearn.decomposition import PCA\n",
    "pca = PCA(n_components=13, random_state=0, svd_solver='randomized'\n",
    "          , whiten=True)\n",
    "pca.fit(X_train)\n",
    "plt.plot(np.cumsum(pca.explained_variance_ratio_) )\n",
    "plt.xlabel('Number of components')\n",
    "plt.ylabel('Cumulative explained variance')"
   ]
  },
  {
   "cell_type": "markdown",
   "metadata": {},
   "source": [
    "So it seems we shouldn't really do a PCA dimensional reduction."
   ]
  }
 ],
 "metadata": {
  "kernelspec": {
   "display_name": "Python 3",
   "language": "python",
   "name": "python3"
  },
  "language_info": {
   "codemirror_mode": {
    "name": "ipython",
    "version": 3
   },
   "file_extension": ".py",
   "mimetype": "text/x-python",
   "name": "python",
   "nbconvert_exporter": "python",
   "pygments_lexer": "ipython3",
   "version": "3.7.3"
  }
 },
 "nbformat": 4,
 "nbformat_minor": 2
}
